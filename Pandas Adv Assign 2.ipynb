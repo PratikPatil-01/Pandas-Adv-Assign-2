{
 "cells": [
  {
   "cell_type": "code",
   "execution_count": 10,
   "id": "cbfae289-d3db-4b85-aa04-985975087c22",
   "metadata": {},
   "outputs": [],
   "source": [
    "####Given DF\n",
    "import pandas as pd\n",
    "course_name = ['Data Science', 'Machine Learning', 'Big Data', 'Data Engineer']\n",
    "duration = [2,3,6,4]\n",
    "df = pd.DataFrame(data = {'course_name' : course_name, 'duration' : duration})"
   ]
  },
  {
   "cell_type": "code",
   "execution_count": 11,
   "id": "4ee59e38-656b-46f0-bee5-6f30f67a818a",
   "metadata": {},
   "outputs": [
    {
     "data": {
      "text/html": [
       "<div>\n",
       "<style scoped>\n",
       "    .dataframe tbody tr th:only-of-type {\n",
       "        vertical-align: middle;\n",
       "    }\n",
       "\n",
       "    .dataframe tbody tr th {\n",
       "        vertical-align: top;\n",
       "    }\n",
       "\n",
       "    .dataframe thead th {\n",
       "        text-align: right;\n",
       "    }\n",
       "</style>\n",
       "<table border=\"1\" class=\"dataframe\">\n",
       "  <thead>\n",
       "    <tr style=\"text-align: right;\">\n",
       "      <th></th>\n",
       "      <th>course_name</th>\n",
       "      <th>duration</th>\n",
       "    </tr>\n",
       "  </thead>\n",
       "  <tbody>\n",
       "    <tr>\n",
       "      <th>0</th>\n",
       "      <td>Data Science</td>\n",
       "      <td>2</td>\n",
       "    </tr>\n",
       "    <tr>\n",
       "      <th>1</th>\n",
       "      <td>Machine Learning</td>\n",
       "      <td>3</td>\n",
       "    </tr>\n",
       "    <tr>\n",
       "      <th>2</th>\n",
       "      <td>Big Data</td>\n",
       "      <td>6</td>\n",
       "    </tr>\n",
       "    <tr>\n",
       "      <th>3</th>\n",
       "      <td>Data Engineer</td>\n",
       "      <td>4</td>\n",
       "    </tr>\n",
       "  </tbody>\n",
       "</table>\n",
       "</div>"
      ],
      "text/plain": [
       "        course_name  duration\n",
       "0      Data Science         2\n",
       "1  Machine Learning         3\n",
       "2          Big Data         6\n",
       "3     Data Engineer         4"
      ]
     },
     "execution_count": 11,
     "metadata": {},
     "output_type": "execute_result"
    }
   ],
   "source": [
    "df"
   ]
  },
  {
   "cell_type": "code",
   "execution_count": null,
   "id": "352600ff-e460-47dc-9938-06f8e2c682fc",
   "metadata": {},
   "outputs": [],
   "source": []
  },
  {
   "cell_type": "markdown",
   "id": "49bc2e42-5ecc-43ea-951b-deb8d60403f6",
   "metadata": {},
   "source": [
    "1) "
   ]
  },
  {
   "cell_type": "code",
   "execution_count": 12,
   "id": "3e8c845a-37c9-4e25-8420-2699c71f2e25",
   "metadata": {},
   "outputs": [
    {
     "name": "stdout",
     "output_type": "stream",
     "text": [
      "course_name    Machine Learning\n",
      "duration                      3\n",
      "Name: 1, dtype: object\n"
     ]
    }
   ],
   "source": [
    "# Assuming df is your DataFrame\n",
    "# Accessing the second row using iloc and printing it\n",
    "print(df.iloc[1])"
   ]
  },
  {
   "cell_type": "code",
   "execution_count": null,
   "id": "6da6a3d8-7eb6-42fd-916f-1cccd827ed14",
   "metadata": {},
   "outputs": [],
   "source": []
  },
  {
   "cell_type": "markdown",
   "id": "0396a4d1-8d1c-4020-98b3-b90971586218",
   "metadata": {},
   "source": [
    "2) \n",
    "</br>\n",
    "In Pandas, both loc and iloc are used for accessing data within a DataFrame, but they have different use cases:\n",
    "</br>\n",
    "loc:\n",
    "</br>\n",
    "loc is primarily label-based indexing. It is used to select data based on the labels of rows and columns.</br>\n",
    "When using loc, you specify the row and column labels explicitly.</br>\n",
    "You can use boolean arrays or slices with loc.</br>\n",
    "The syntax for accessing data using loc is df.loc[row_label, column_label].\n",
    "</br>\n",
    "iloc:\n",
    "</br>\n",
    "iloc is primarily integer-based indexing. It is used to select data based on the integer position of rows and columns.</br>\n",
    "When using iloc, you specify the row and column positions explicitly.</br>\n",
    "You can use integer arrays or slices with iloc.</br>\n",
    "The syntax for accessing data using iloc is df.iloc[row_position, column_position].</br>\n",
    "</br>\n",
    "In summary, loc is used for label-based indexing, while iloc is used for integer-based indexing. The choice between loc and iloc depends on whether you want to access data based on labels or integer positions."
   ]
  },
  {
   "cell_type": "code",
   "execution_count": null,
   "id": "c10d2f8e-7db1-467d-9f52-5aa1abe26c89",
   "metadata": {},
   "outputs": [],
   "source": []
  },
  {
   "cell_type": "markdown",
   "id": "c4c3cd77-a302-4938-8663-2f39e0903d1b",
   "metadata": {},
   "source": [
    "3) "
   ]
  },
  {
   "cell_type": "code",
   "execution_count": 13,
   "id": "6e788d46-9bbc-4dfc-ac66-bf573c332d4a",
   "metadata": {},
   "outputs": [
    {
     "name": "stdout",
     "output_type": "stream",
     "text": [
      "Output for new_df.loc[2]:\n",
      "course_name    Big Data\n",
      "duration              6\n",
      "Name: 2, dtype: object\n",
      "\n",
      "Output for new_df.iloc[2]:\n",
      "course_name    Machine Learning\n",
      "duration                      3\n",
      "Name: 1, dtype: object\n"
     ]
    }
   ],
   "source": [
    "import pandas as pd\n",
    "\n",
    "# Given DataFrame\n",
    "df\n",
    "\n",
    "# Define the new index\n",
    "reindex = [3, 0, 1, 2]\n",
    "\n",
    "# Reindex the DataFrame\n",
    "new_df = df.reindex(reindex)\n",
    "\n",
    "# Output for new_df.loc[2]\n",
    "print(\"Output for new_df.loc[2]:\")\n",
    "print(new_df.loc[2])\n",
    "\n",
    "# Output for new_df.iloc[2]\n",
    "print(\"\\nOutput for new_df.iloc[2]:\")\n",
    "print(new_df.iloc[2])"
   ]
  },
  {
   "cell_type": "markdown",
   "id": "b3a8a12f-a6b9-41ab-adf1-731f036abe4e",
   "metadata": {},
   "source": [
    "The output for new_df.loc[2] and new_df.iloc[2] would differ because they access data differently:\n",
    "</br>\n",
    "new_df.loc[2]: This will access the row with label/index 2 in the DataFrame. Since we have reindexed the DataFrame using [3, 0, 1, 2], the label 2 now corresponds to the row that was originally at index 1 in the original DataFrame. So, it will return the row with the label 2 after reindexing.\n",
    "</br>\n",
    "new_df.iloc[2]: This will access the row at the integer position 2 in the DataFrame. After reindexing, the DataFrame still maintains its original order, but the labels have been changed according to the new index [3, 0, 1, 2]. So, iloc[2] will return the row at the integer position 2, which corresponds to the row with label/index 1 in the original DataFrame.\n",
    "</br>\n",
    "In summary, loc accesses data based on labels while iloc accesses data based on integer positions. The reindexing changes the labels but not the integer positions, which leads to differences in output between loc and iloc."
   ]
  },
  {
   "cell_type": "code",
   "execution_count": null,
   "id": "f17c6092-d00c-4b2a-ba85-ff7cbd8a7612",
   "metadata": {},
   "outputs": [],
   "source": []
  },
  {
   "cell_type": "code",
   "execution_count": 14,
   "id": "774c8a56-2b32-4283-9a44-c33793d6a8ef",
   "metadata": {},
   "outputs": [],
   "source": [
    "####Given DF\n",
    "import pandas as pd\n",
    "import numpy as np\n",
    "columns = ['column_1', 'column_2', 'column_3', 'column_4', 'column_5', 'column_6']\n",
    "indices = [1,2,3,4,5,6]\n",
    "#Creating a dataframe:\n",
    "df1 = pd.DataFrame(np.random.rand(6,6), columns = columns, index = indices)"
   ]
  },
  {
   "cell_type": "code",
   "execution_count": 15,
   "id": "9f0246ec-05b4-45a5-94f5-ed6262d207e0",
   "metadata": {},
   "outputs": [
    {
     "data": {
      "text/html": [
       "<div>\n",
       "<style scoped>\n",
       "    .dataframe tbody tr th:only-of-type {\n",
       "        vertical-align: middle;\n",
       "    }\n",
       "\n",
       "    .dataframe tbody tr th {\n",
       "        vertical-align: top;\n",
       "    }\n",
       "\n",
       "    .dataframe thead th {\n",
       "        text-align: right;\n",
       "    }\n",
       "</style>\n",
       "<table border=\"1\" class=\"dataframe\">\n",
       "  <thead>\n",
       "    <tr style=\"text-align: right;\">\n",
       "      <th></th>\n",
       "      <th>column_1</th>\n",
       "      <th>column_2</th>\n",
       "      <th>column_3</th>\n",
       "      <th>column_4</th>\n",
       "      <th>column_5</th>\n",
       "      <th>column_6</th>\n",
       "    </tr>\n",
       "  </thead>\n",
       "  <tbody>\n",
       "    <tr>\n",
       "      <th>1</th>\n",
       "      <td>0.294462</td>\n",
       "      <td>0.264101</td>\n",
       "      <td>0.743037</td>\n",
       "      <td>0.314021</td>\n",
       "      <td>0.361743</td>\n",
       "      <td>0.982742</td>\n",
       "    </tr>\n",
       "    <tr>\n",
       "      <th>2</th>\n",
       "      <td>0.291669</td>\n",
       "      <td>0.009929</td>\n",
       "      <td>0.297727</td>\n",
       "      <td>0.944297</td>\n",
       "      <td>0.157205</td>\n",
       "      <td>0.768333</td>\n",
       "    </tr>\n",
       "    <tr>\n",
       "      <th>3</th>\n",
       "      <td>0.636464</td>\n",
       "      <td>0.786974</td>\n",
       "      <td>0.110358</td>\n",
       "      <td>0.903109</td>\n",
       "      <td>0.143188</td>\n",
       "      <td>0.978296</td>\n",
       "    </tr>\n",
       "    <tr>\n",
       "      <th>4</th>\n",
       "      <td>0.065767</td>\n",
       "      <td>0.257426</td>\n",
       "      <td>0.241305</td>\n",
       "      <td>0.431718</td>\n",
       "      <td>0.207079</td>\n",
       "      <td>0.122224</td>\n",
       "    </tr>\n",
       "    <tr>\n",
       "      <th>5</th>\n",
       "      <td>0.520041</td>\n",
       "      <td>0.701545</td>\n",
       "      <td>0.168639</td>\n",
       "      <td>0.874156</td>\n",
       "      <td>0.790443</td>\n",
       "      <td>0.478657</td>\n",
       "    </tr>\n",
       "    <tr>\n",
       "      <th>6</th>\n",
       "      <td>0.655940</td>\n",
       "      <td>0.958247</td>\n",
       "      <td>0.176871</td>\n",
       "      <td>0.329869</td>\n",
       "      <td>0.475272</td>\n",
       "      <td>0.466897</td>\n",
       "    </tr>\n",
       "  </tbody>\n",
       "</table>\n",
       "</div>"
      ],
      "text/plain": [
       "   column_1  column_2  column_3  column_4  column_5  column_6\n",
       "1  0.294462  0.264101  0.743037  0.314021  0.361743  0.982742\n",
       "2  0.291669  0.009929  0.297727  0.944297  0.157205  0.768333\n",
       "3  0.636464  0.786974  0.110358  0.903109  0.143188  0.978296\n",
       "4  0.065767  0.257426  0.241305  0.431718  0.207079  0.122224\n",
       "5  0.520041  0.701545  0.168639  0.874156  0.790443  0.478657\n",
       "6  0.655940  0.958247  0.176871  0.329869  0.475272  0.466897"
      ]
     },
     "execution_count": 15,
     "metadata": {},
     "output_type": "execute_result"
    }
   ],
   "source": [
    "df1"
   ]
  },
  {
   "cell_type": "code",
   "execution_count": null,
   "id": "778e1ea9-fff4-4522-a0ae-b4bff02ce636",
   "metadata": {},
   "outputs": [],
   "source": []
  },
  {
   "cell_type": "markdown",
   "id": "d1cf39b9-1f75-433a-a231-d0ff7fc7bcf0",
   "metadata": {},
   "source": [
    "4) "
   ]
  },
  {
   "cell_type": "code",
   "execution_count": 16,
   "id": "17cb916b-695f-4313-ba48-31c68cbe7efe",
   "metadata": {},
   "outputs": [
    {
     "name": "stdout",
     "output_type": "stream",
     "text": [
      "Mean of each column:\n",
      "column_1    0.410724\n",
      "column_2    0.496370\n",
      "column_3    0.289656\n",
      "column_4    0.632862\n",
      "column_5    0.355822\n",
      "column_6    0.632858\n",
      "dtype: float64\n",
      "\n",
      "Standard deviation of column 'column_2': 0.37082227172036947\n"
     ]
    }
   ],
   "source": [
    "import pandas as pd\n",
    "\n",
    "# Assuming df1 is your DataFrame\n",
    "# Example DataFrame\n",
    "df1\n",
    "\n",
    "# (i) Mean of each column\n",
    "column_means = df1.mean()\n",
    "print(\"Mean of each column:\")\n",
    "print(column_means)\n",
    "\n",
    "# (ii) Standard deviation of column 'column_2'\n",
    "column_2_std = df1['column_2'].std()\n",
    "print(\"\\nStandard deviation of column 'column_2':\", column_2_std)"
   ]
  },
  {
   "cell_type": "code",
   "execution_count": null,
   "id": "4c2b8cdf-b4f0-492d-9efd-14bd137ebad8",
   "metadata": {},
   "outputs": [],
   "source": []
  },
  {
   "cell_type": "markdown",
   "id": "3b44e2aa-3785-4cb8-a2c7-117651548338",
   "metadata": {},
   "source": [
    "5) "
   ]
  },
  {
   "cell_type": "code",
   "execution_count": 17,
   "id": "019ea2ce-e4f4-409f-b196-f95261417b70",
   "metadata": {},
   "outputs": [
    {
     "ename": "TypeError",
     "evalue": "can only concatenate str (not \"float\") to str",
     "output_type": "error",
     "traceback": [
      "\u001b[0;31m---------------------------------------------------------------------------\u001b[0m",
      "\u001b[0;31mTypeError\u001b[0m                                 Traceback (most recent call last)",
      "Cell \u001b[0;32mIn[17], line 11\u001b[0m\n\u001b[1;32m      8\u001b[0m df1\u001b[38;5;241m.\u001b[39mloc[\u001b[38;5;241m1\u001b[39m, \u001b[38;5;124m'\u001b[39m\u001b[38;5;124mcolumn_2\u001b[39m\u001b[38;5;124m'\u001b[39m] \u001b[38;5;241m=\u001b[39m \u001b[38;5;124m'\u001b[39m\u001b[38;5;124mstring_data\u001b[39m\u001b[38;5;124m'\u001b[39m\n\u001b[1;32m     10\u001b[0m \u001b[38;5;66;03m# Calculate the mean of column 'column_2'\u001b[39;00m\n\u001b[0;32m---> 11\u001b[0m column_2_mean \u001b[38;5;241m=\u001b[39m \u001b[43mdf1\u001b[49m\u001b[43m[\u001b[49m\u001b[38;5;124;43m'\u001b[39;49m\u001b[38;5;124;43mcolumn_2\u001b[39;49m\u001b[38;5;124;43m'\u001b[39;49m\u001b[43m]\u001b[49m\u001b[38;5;241;43m.\u001b[39;49m\u001b[43mmean\u001b[49m\u001b[43m(\u001b[49m\u001b[43m)\u001b[49m\n\u001b[1;32m     12\u001b[0m \u001b[38;5;28mprint\u001b[39m(\u001b[38;5;124m\"\u001b[39m\u001b[38;5;124mMean of column \u001b[39m\u001b[38;5;124m'\u001b[39m\u001b[38;5;124mcolumn_2\u001b[39m\u001b[38;5;124m'\u001b[39m\u001b[38;5;124m:\u001b[39m\u001b[38;5;124m\"\u001b[39m, column_2_mean)\n",
      "File \u001b[0;32m/opt/conda/lib/python3.10/site-packages/pandas/core/generic.py:11847\u001b[0m, in \u001b[0;36mNDFrame._add_numeric_operations.<locals>.mean\u001b[0;34m(self, axis, skipna, level, numeric_only, **kwargs)\u001b[0m\n\u001b[1;32m  11829\u001b[0m \u001b[38;5;129m@doc\u001b[39m(\n\u001b[1;32m  11830\u001b[0m     _num_doc,\n\u001b[1;32m  11831\u001b[0m     desc\u001b[38;5;241m=\u001b[39m\u001b[38;5;124m\"\u001b[39m\u001b[38;5;124mReturn the mean of the values over the requested axis.\u001b[39m\u001b[38;5;124m\"\u001b[39m,\n\u001b[0;32m   (...)\u001b[0m\n\u001b[1;32m  11845\u001b[0m     \u001b[38;5;241m*\u001b[39m\u001b[38;5;241m*\u001b[39mkwargs,\n\u001b[1;32m  11846\u001b[0m ):\n\u001b[0;32m> 11847\u001b[0m     \u001b[38;5;28;01mreturn\u001b[39;00m \u001b[43mNDFrame\u001b[49m\u001b[38;5;241;43m.\u001b[39;49m\u001b[43mmean\u001b[49m\u001b[43m(\u001b[49m\u001b[38;5;28;43mself\u001b[39;49m\u001b[43m,\u001b[49m\u001b[43m \u001b[49m\u001b[43maxis\u001b[49m\u001b[43m,\u001b[49m\u001b[43m \u001b[49m\u001b[43mskipna\u001b[49m\u001b[43m,\u001b[49m\u001b[43m \u001b[49m\u001b[43mlevel\u001b[49m\u001b[43m,\u001b[49m\u001b[43m \u001b[49m\u001b[43mnumeric_only\u001b[49m\u001b[43m,\u001b[49m\u001b[43m \u001b[49m\u001b[38;5;241;43m*\u001b[39;49m\u001b[38;5;241;43m*\u001b[39;49m\u001b[43mkwargs\u001b[49m\u001b[43m)\u001b[49m\n",
      "File \u001b[0;32m/opt/conda/lib/python3.10/site-packages/pandas/core/generic.py:11401\u001b[0m, in \u001b[0;36mNDFrame.mean\u001b[0;34m(self, axis, skipna, level, numeric_only, **kwargs)\u001b[0m\n\u001b[1;32m  11393\u001b[0m \u001b[38;5;28;01mdef\u001b[39;00m \u001b[38;5;21mmean\u001b[39m(\n\u001b[1;32m  11394\u001b[0m     \u001b[38;5;28mself\u001b[39m,\n\u001b[1;32m  11395\u001b[0m     axis: Axis \u001b[38;5;241m|\u001b[39m \u001b[38;5;28;01mNone\u001b[39;00m \u001b[38;5;241m|\u001b[39m lib\u001b[38;5;241m.\u001b[39mNoDefault \u001b[38;5;241m=\u001b[39m lib\u001b[38;5;241m.\u001b[39mno_default,\n\u001b[0;32m   (...)\u001b[0m\n\u001b[1;32m  11399\u001b[0m     \u001b[38;5;241m*\u001b[39m\u001b[38;5;241m*\u001b[39mkwargs,\n\u001b[1;32m  11400\u001b[0m ) \u001b[38;5;241m-\u001b[39m\u001b[38;5;241m>\u001b[39m Series \u001b[38;5;241m|\u001b[39m \u001b[38;5;28mfloat\u001b[39m:\n\u001b[0;32m> 11401\u001b[0m     \u001b[38;5;28;01mreturn\u001b[39;00m \u001b[38;5;28;43mself\u001b[39;49m\u001b[38;5;241;43m.\u001b[39;49m\u001b[43m_stat_function\u001b[49m\u001b[43m(\u001b[49m\n\u001b[1;32m  11402\u001b[0m \u001b[43m        \u001b[49m\u001b[38;5;124;43m\"\u001b[39;49m\u001b[38;5;124;43mmean\u001b[39;49m\u001b[38;5;124;43m\"\u001b[39;49m\u001b[43m,\u001b[49m\u001b[43m \u001b[49m\u001b[43mnanops\u001b[49m\u001b[38;5;241;43m.\u001b[39;49m\u001b[43mnanmean\u001b[49m\u001b[43m,\u001b[49m\u001b[43m \u001b[49m\u001b[43maxis\u001b[49m\u001b[43m,\u001b[49m\u001b[43m \u001b[49m\u001b[43mskipna\u001b[49m\u001b[43m,\u001b[49m\u001b[43m \u001b[49m\u001b[43mlevel\u001b[49m\u001b[43m,\u001b[49m\u001b[43m \u001b[49m\u001b[43mnumeric_only\u001b[49m\u001b[43m,\u001b[49m\u001b[43m \u001b[49m\u001b[38;5;241;43m*\u001b[39;49m\u001b[38;5;241;43m*\u001b[39;49m\u001b[43mkwargs\u001b[49m\n\u001b[1;32m  11403\u001b[0m \u001b[43m    \u001b[49m\u001b[43m)\u001b[49m\n",
      "File \u001b[0;32m/opt/conda/lib/python3.10/site-packages/pandas/core/generic.py:11353\u001b[0m, in \u001b[0;36mNDFrame._stat_function\u001b[0;34m(self, name, func, axis, skipna, level, numeric_only, **kwargs)\u001b[0m\n\u001b[1;32m  11343\u001b[0m     warnings\u001b[38;5;241m.\u001b[39mwarn(\n\u001b[1;32m  11344\u001b[0m         \u001b[38;5;124m\"\u001b[39m\u001b[38;5;124mUsing the level keyword in DataFrame and Series aggregations is \u001b[39m\u001b[38;5;124m\"\u001b[39m\n\u001b[1;32m  11345\u001b[0m         \u001b[38;5;124m\"\u001b[39m\u001b[38;5;124mdeprecated and will be removed in a future version. Use groupby \u001b[39m\u001b[38;5;124m\"\u001b[39m\n\u001b[0;32m   (...)\u001b[0m\n\u001b[1;32m  11348\u001b[0m         stacklevel\u001b[38;5;241m=\u001b[39mfind_stack_level(),\n\u001b[1;32m  11349\u001b[0m     )\n\u001b[1;32m  11350\u001b[0m     \u001b[38;5;28;01mreturn\u001b[39;00m \u001b[38;5;28mself\u001b[39m\u001b[38;5;241m.\u001b[39m_agg_by_level(\n\u001b[1;32m  11351\u001b[0m         name, axis\u001b[38;5;241m=\u001b[39maxis, level\u001b[38;5;241m=\u001b[39mlevel, skipna\u001b[38;5;241m=\u001b[39mskipna, numeric_only\u001b[38;5;241m=\u001b[39mnumeric_only\n\u001b[1;32m  11352\u001b[0m     )\n\u001b[0;32m> 11353\u001b[0m \u001b[38;5;28;01mreturn\u001b[39;00m \u001b[38;5;28;43mself\u001b[39;49m\u001b[38;5;241;43m.\u001b[39;49m\u001b[43m_reduce\u001b[49m\u001b[43m(\u001b[49m\n\u001b[1;32m  11354\u001b[0m \u001b[43m    \u001b[49m\u001b[43mfunc\u001b[49m\u001b[43m,\u001b[49m\u001b[43m \u001b[49m\u001b[43mname\u001b[49m\u001b[38;5;241;43m=\u001b[39;49m\u001b[43mname\u001b[49m\u001b[43m,\u001b[49m\u001b[43m \u001b[49m\u001b[43maxis\u001b[49m\u001b[38;5;241;43m=\u001b[39;49m\u001b[43maxis\u001b[49m\u001b[43m,\u001b[49m\u001b[43m \u001b[49m\u001b[43mskipna\u001b[49m\u001b[38;5;241;43m=\u001b[39;49m\u001b[43mskipna\u001b[49m\u001b[43m,\u001b[49m\u001b[43m \u001b[49m\u001b[43mnumeric_only\u001b[49m\u001b[38;5;241;43m=\u001b[39;49m\u001b[43mnumeric_only\u001b[49m\n\u001b[1;32m  11355\u001b[0m \u001b[43m\u001b[49m\u001b[43m)\u001b[49m\n",
      "File \u001b[0;32m/opt/conda/lib/python3.10/site-packages/pandas/core/series.py:4816\u001b[0m, in \u001b[0;36mSeries._reduce\u001b[0;34m(self, op, name, axis, skipna, numeric_only, filter_type, **kwds)\u001b[0m\n\u001b[1;32m   4812\u001b[0m     \u001b[38;5;28;01mraise\u001b[39;00m \u001b[38;5;167;01mNotImplementedError\u001b[39;00m(\n\u001b[1;32m   4813\u001b[0m         \u001b[38;5;124mf\u001b[39m\u001b[38;5;124m\"\u001b[39m\u001b[38;5;124mSeries.\u001b[39m\u001b[38;5;132;01m{\u001b[39;00mname\u001b[38;5;132;01m}\u001b[39;00m\u001b[38;5;124m does not implement \u001b[39m\u001b[38;5;132;01m{\u001b[39;00mkwd_name\u001b[38;5;132;01m}\u001b[39;00m\u001b[38;5;124m.\u001b[39m\u001b[38;5;124m\"\u001b[39m\n\u001b[1;32m   4814\u001b[0m     )\n\u001b[1;32m   4815\u001b[0m \u001b[38;5;28;01mwith\u001b[39;00m np\u001b[38;5;241m.\u001b[39merrstate(\u001b[38;5;28mall\u001b[39m\u001b[38;5;241m=\u001b[39m\u001b[38;5;124m\"\u001b[39m\u001b[38;5;124mignore\u001b[39m\u001b[38;5;124m\"\u001b[39m):\n\u001b[0;32m-> 4816\u001b[0m     \u001b[38;5;28;01mreturn\u001b[39;00m \u001b[43mop\u001b[49m\u001b[43m(\u001b[49m\u001b[43mdelegate\u001b[49m\u001b[43m,\u001b[49m\u001b[43m \u001b[49m\u001b[43mskipna\u001b[49m\u001b[38;5;241;43m=\u001b[39;49m\u001b[43mskipna\u001b[49m\u001b[43m,\u001b[49m\u001b[43m \u001b[49m\u001b[38;5;241;43m*\u001b[39;49m\u001b[38;5;241;43m*\u001b[39;49m\u001b[43mkwds\u001b[49m\u001b[43m)\u001b[49m\n",
      "File \u001b[0;32m/opt/conda/lib/python3.10/site-packages/pandas/core/nanops.py:93\u001b[0m, in \u001b[0;36mdisallow.__call__.<locals>._f\u001b[0;34m(*args, **kwargs)\u001b[0m\n\u001b[1;32m     91\u001b[0m \u001b[38;5;28;01mtry\u001b[39;00m:\n\u001b[1;32m     92\u001b[0m     \u001b[38;5;28;01mwith\u001b[39;00m np\u001b[38;5;241m.\u001b[39merrstate(invalid\u001b[38;5;241m=\u001b[39m\u001b[38;5;124m\"\u001b[39m\u001b[38;5;124mignore\u001b[39m\u001b[38;5;124m\"\u001b[39m):\n\u001b[0;32m---> 93\u001b[0m         \u001b[38;5;28;01mreturn\u001b[39;00m \u001b[43mf\u001b[49m\u001b[43m(\u001b[49m\u001b[38;5;241;43m*\u001b[39;49m\u001b[43margs\u001b[49m\u001b[43m,\u001b[49m\u001b[43m \u001b[49m\u001b[38;5;241;43m*\u001b[39;49m\u001b[38;5;241;43m*\u001b[39;49m\u001b[43mkwargs\u001b[49m\u001b[43m)\u001b[49m\n\u001b[1;32m     94\u001b[0m \u001b[38;5;28;01mexcept\u001b[39;00m \u001b[38;5;167;01mValueError\u001b[39;00m \u001b[38;5;28;01mas\u001b[39;00m e:\n\u001b[1;32m     95\u001b[0m     \u001b[38;5;66;03m# we want to transform an object array\u001b[39;00m\n\u001b[1;32m     96\u001b[0m     \u001b[38;5;66;03m# ValueError message to the more typical TypeError\u001b[39;00m\n\u001b[1;32m     97\u001b[0m     \u001b[38;5;66;03m# e.g. this is normally a disallowed function on\u001b[39;00m\n\u001b[1;32m     98\u001b[0m     \u001b[38;5;66;03m# object arrays that contain strings\u001b[39;00m\n\u001b[1;32m     99\u001b[0m     \u001b[38;5;28;01mif\u001b[39;00m is_object_dtype(args[\u001b[38;5;241m0\u001b[39m]):\n",
      "File \u001b[0;32m/opt/conda/lib/python3.10/site-packages/pandas/core/nanops.py:155\u001b[0m, in \u001b[0;36mbottleneck_switch.__call__.<locals>.f\u001b[0;34m(values, axis, skipna, **kwds)\u001b[0m\n\u001b[1;32m    153\u001b[0m         result \u001b[38;5;241m=\u001b[39m alt(values, axis\u001b[38;5;241m=\u001b[39maxis, skipna\u001b[38;5;241m=\u001b[39mskipna, \u001b[38;5;241m*\u001b[39m\u001b[38;5;241m*\u001b[39mkwds)\n\u001b[1;32m    154\u001b[0m \u001b[38;5;28;01melse\u001b[39;00m:\n\u001b[0;32m--> 155\u001b[0m     result \u001b[38;5;241m=\u001b[39m \u001b[43malt\u001b[49m\u001b[43m(\u001b[49m\u001b[43mvalues\u001b[49m\u001b[43m,\u001b[49m\u001b[43m \u001b[49m\u001b[43maxis\u001b[49m\u001b[38;5;241;43m=\u001b[39;49m\u001b[43maxis\u001b[49m\u001b[43m,\u001b[49m\u001b[43m \u001b[49m\u001b[43mskipna\u001b[49m\u001b[38;5;241;43m=\u001b[39;49m\u001b[43mskipna\u001b[49m\u001b[43m,\u001b[49m\u001b[43m \u001b[49m\u001b[38;5;241;43m*\u001b[39;49m\u001b[38;5;241;43m*\u001b[39;49m\u001b[43mkwds\u001b[49m\u001b[43m)\u001b[49m\n\u001b[1;32m    157\u001b[0m \u001b[38;5;28;01mreturn\u001b[39;00m result\n",
      "File \u001b[0;32m/opt/conda/lib/python3.10/site-packages/pandas/core/nanops.py:418\u001b[0m, in \u001b[0;36m_datetimelike_compat.<locals>.new_func\u001b[0;34m(values, axis, skipna, mask, **kwargs)\u001b[0m\n\u001b[1;32m    415\u001b[0m \u001b[38;5;28;01mif\u001b[39;00m datetimelike \u001b[38;5;129;01mand\u001b[39;00m mask \u001b[38;5;129;01mis\u001b[39;00m \u001b[38;5;28;01mNone\u001b[39;00m:\n\u001b[1;32m    416\u001b[0m     mask \u001b[38;5;241m=\u001b[39m isna(values)\n\u001b[0;32m--> 418\u001b[0m result \u001b[38;5;241m=\u001b[39m \u001b[43mfunc\u001b[49m\u001b[43m(\u001b[49m\u001b[43mvalues\u001b[49m\u001b[43m,\u001b[49m\u001b[43m \u001b[49m\u001b[43maxis\u001b[49m\u001b[38;5;241;43m=\u001b[39;49m\u001b[43maxis\u001b[49m\u001b[43m,\u001b[49m\u001b[43m \u001b[49m\u001b[43mskipna\u001b[49m\u001b[38;5;241;43m=\u001b[39;49m\u001b[43mskipna\u001b[49m\u001b[43m,\u001b[49m\u001b[43m \u001b[49m\u001b[43mmask\u001b[49m\u001b[38;5;241;43m=\u001b[39;49m\u001b[43mmask\u001b[49m\u001b[43m,\u001b[49m\u001b[43m \u001b[49m\u001b[38;5;241;43m*\u001b[39;49m\u001b[38;5;241;43m*\u001b[39;49m\u001b[43mkwargs\u001b[49m\u001b[43m)\u001b[49m\n\u001b[1;32m    420\u001b[0m \u001b[38;5;28;01mif\u001b[39;00m datetimelike:\n\u001b[1;32m    421\u001b[0m     result \u001b[38;5;241m=\u001b[39m _wrap_results(result, orig_values\u001b[38;5;241m.\u001b[39mdtype, fill_value\u001b[38;5;241m=\u001b[39miNaT)\n",
      "File \u001b[0;32m/opt/conda/lib/python3.10/site-packages/pandas/core/nanops.py:706\u001b[0m, in \u001b[0;36mnanmean\u001b[0;34m(values, axis, skipna, mask)\u001b[0m\n\u001b[1;32m    703\u001b[0m     dtype_count \u001b[38;5;241m=\u001b[39m dtype\n\u001b[1;32m    705\u001b[0m count \u001b[38;5;241m=\u001b[39m _get_counts(values\u001b[38;5;241m.\u001b[39mshape, mask, axis, dtype\u001b[38;5;241m=\u001b[39mdtype_count)\n\u001b[0;32m--> 706\u001b[0m the_sum \u001b[38;5;241m=\u001b[39m _ensure_numeric(\u001b[43mvalues\u001b[49m\u001b[38;5;241;43m.\u001b[39;49m\u001b[43msum\u001b[49m\u001b[43m(\u001b[49m\u001b[43maxis\u001b[49m\u001b[43m,\u001b[49m\u001b[43m \u001b[49m\u001b[43mdtype\u001b[49m\u001b[38;5;241;43m=\u001b[39;49m\u001b[43mdtype_sum\u001b[49m\u001b[43m)\u001b[49m)\n\u001b[1;32m    708\u001b[0m \u001b[38;5;28;01mif\u001b[39;00m axis \u001b[38;5;129;01mis\u001b[39;00m \u001b[38;5;129;01mnot\u001b[39;00m \u001b[38;5;28;01mNone\u001b[39;00m \u001b[38;5;129;01mand\u001b[39;00m \u001b[38;5;28mgetattr\u001b[39m(the_sum, \u001b[38;5;124m\"\u001b[39m\u001b[38;5;124mndim\u001b[39m\u001b[38;5;124m\"\u001b[39m, \u001b[38;5;28;01mFalse\u001b[39;00m):\n\u001b[1;32m    709\u001b[0m     count \u001b[38;5;241m=\u001b[39m cast(np\u001b[38;5;241m.\u001b[39mndarray, count)\n",
      "File \u001b[0;32m/opt/conda/lib/python3.10/site-packages/numpy/core/_methods.py:48\u001b[0m, in \u001b[0;36m_sum\u001b[0;34m(a, axis, dtype, out, keepdims, initial, where)\u001b[0m\n\u001b[1;32m     46\u001b[0m \u001b[38;5;28;01mdef\u001b[39;00m \u001b[38;5;21m_sum\u001b[39m(a, axis\u001b[38;5;241m=\u001b[39m\u001b[38;5;28;01mNone\u001b[39;00m, dtype\u001b[38;5;241m=\u001b[39m\u001b[38;5;28;01mNone\u001b[39;00m, out\u001b[38;5;241m=\u001b[39m\u001b[38;5;28;01mNone\u001b[39;00m, keepdims\u001b[38;5;241m=\u001b[39m\u001b[38;5;28;01mFalse\u001b[39;00m,\n\u001b[1;32m     47\u001b[0m          initial\u001b[38;5;241m=\u001b[39m_NoValue, where\u001b[38;5;241m=\u001b[39m\u001b[38;5;28;01mTrue\u001b[39;00m):\n\u001b[0;32m---> 48\u001b[0m     \u001b[38;5;28;01mreturn\u001b[39;00m \u001b[43mumr_sum\u001b[49m\u001b[43m(\u001b[49m\u001b[43ma\u001b[49m\u001b[43m,\u001b[49m\u001b[43m \u001b[49m\u001b[43maxis\u001b[49m\u001b[43m,\u001b[49m\u001b[43m \u001b[49m\u001b[43mdtype\u001b[49m\u001b[43m,\u001b[49m\u001b[43m \u001b[49m\u001b[43mout\u001b[49m\u001b[43m,\u001b[49m\u001b[43m \u001b[49m\u001b[43mkeepdims\u001b[49m\u001b[43m,\u001b[49m\u001b[43m \u001b[49m\u001b[43minitial\u001b[49m\u001b[43m,\u001b[49m\u001b[43m \u001b[49m\u001b[43mwhere\u001b[49m\u001b[43m)\u001b[49m\n",
      "\u001b[0;31mTypeError\u001b[0m: can only concatenate str (not \"float\") to str"
     ]
    }
   ],
   "source": [
    "import pandas as pd\n",
    "\n",
    "# Assuming df1 is your DataFrame\n",
    "# Example DataFrame\n",
    "df1\n",
    "\n",
    "# Try to replace the data in the second row of column 'column_2' with a string\n",
    "df1.loc[1, 'column_2'] = 'string_data'\n",
    "\n",
    "# Calculate the mean of column 'column_2'\n",
    "column_2_mean = df1['column_2'].mean()\n",
    "print(\"Mean of column 'column_2':\", column_2_mean)"
   ]
  },
  {
   "cell_type": "markdown",
   "id": "e938f652-9067-4f30-b5f7-e14a9f9650e1",
   "metadata": {},
   "source": [
    "This error occurs because Pandas tries to calculate the mean of column 'column_2', but it encounters a string value ('string_data') in the column. Since it's not possible to calculate the mean of a column containing strings, Pandas raises a TypeError.\n",
    "</br>\n",
    "To resolve this issue, you should ensure that the data in the DataFrame remains consistent and of the same type within each column. If you need to replace the data with a string, consider using a different approach or converting the entire column to strings."
   ]
  },
  {
   "cell_type": "code",
   "execution_count": null,
   "id": "39b76f4a-6076-41ea-9666-fef4864f7135",
   "metadata": {},
   "outputs": [],
   "source": []
  },
  {
   "cell_type": "markdown",
   "id": "242aeba3-d366-4d3d-9383-64b59e0faf06",
   "metadata": {},
   "source": [
    "6) \n",
    "</br>\n",
    "In Pandas, window functions are used for performing calculations over a sliding or rolling window of data. These functions allow you to compute metrics such as moving averages, cumulative sums, or rank within a specified window of rows.\n",
    "</br>\n",
    "Window functions are typically applied using the rolling() method for rolling window operations or the expanding() method for expanding window operations.\n",
    "</br>\n",
    "There are various types of window functions in Pandas, including but not limited to:\n",
    "</br>\n",
    "Rolling window functions:\n",
    "</br>\n",
    "These functions perform calculations over a fixed-size window of consecutive rows.\n",
    "Common rolling window functions include:\n",
    "rolling().mean(): Calculates the rolling mean.\n",
    "rolling().sum(): Calculates the rolling sum.\n",
    "rolling().std(): Calculates the rolling standard deviation.\n",
    "rolling().min(): Calculates the rolling minimum.\n",
    "rolling().max(): Calculates the rolling maximum.\n",
    "rolling().apply(): Applies a custom function to the rolling window.\n",
    "</br>\n",
    "Expanding window functions:\n",
    "</br>\n",
    "These functions perform calculations over all data points from the beginning of the series up to the current row.\n",
    "Common expanding window functions include:\n",
    "expanding().mean(): Calculates the expanding mean.\n",
    "expanding().sum(): Calculates the expanding sum.\n",
    "expanding().std(): Calculates the expanding standard deviation.\n",
    "expanding().min(): Calculates the expanding minimum.\n",
    "expanding().max(): Calculates the expanding maximum.\n",
    "expanding().apply(): Applies a custom function to the expanding window."
   ]
  },
  {
   "cell_type": "code",
   "execution_count": null,
   "id": "3681e0b9-fe54-4cd1-a09a-517a9484ec58",
   "metadata": {},
   "outputs": [],
   "source": []
  },
  {
   "cell_type": "markdown",
   "id": "f7b9dfaa-f580-418a-928a-a362dc1a4d08",
   "metadata": {},
   "source": [
    "7) "
   ]
  },
  {
   "cell_type": "code",
   "execution_count": 18,
   "id": "6237be76-9813-4bc4-bf63-ab37b97bc134",
   "metadata": {},
   "outputs": [
    {
     "name": "stdout",
     "output_type": "stream",
     "text": [
      "Current month: 2\n",
      "Current year: 2024\n"
     ]
    }
   ],
   "source": [
    "import pandas as pd\n",
    "\n",
    "# Get the current date and time\n",
    "current_datetime = pd.Timestamp.now()\n",
    "\n",
    "# Extract the month and year from the current date\n",
    "current_month = current_datetime.month\n",
    "current_year = current_datetime.year\n",
    "\n",
    "# Print the current month and year\n",
    "print(\"Current month:\", current_month)\n",
    "print(\"Current year:\", current_year)"
   ]
  },
  {
   "cell_type": "code",
   "execution_count": null,
   "id": "5f30f8ec-dd11-4c5f-8695-1e31d6ad4ed7",
   "metadata": {},
   "outputs": [],
   "source": []
  },
  {
   "cell_type": "markdown",
   "id": "a256d730-5e05-4a2f-bf0d-6ebb174f7ebd",
   "metadata": {},
   "source": [
    "8) "
   ]
  },
  {
   "cell_type": "code",
   "execution_count": 21,
   "id": "eddf15f0-9a86-45e3-9aa3-7e0f9af7e96f",
   "metadata": {},
   "outputs": [
    {
     "name": "stdin",
     "output_type": "stream",
     "text": [
      "Enter the first date (YYYY-MM-DD):  2024-02-01\n",
      "Enter the second date (YYYY-MM-DD):  2024-02-06\n"
     ]
    },
    {
     "name": "stdout",
     "output_type": "stream",
     "text": [
      "Difference between the two dates:\n",
      "Days: 5\n",
      "Hours: 0\n",
      "Minutes: 0\n"
     ]
    }
   ],
   "source": [
    "import pandas as pd\n",
    "\n",
    "def calculate_time_difference():\n",
    "    # Prompt the user to enter the first date\n",
    "    date1_str = input(\"Enter the first date (YYYY-MM-DD): \")\n",
    "    # Prompt the user to enter the second date\n",
    "    date2_str = input(\"Enter the second date (YYYY-MM-DD): \")\n",
    "\n",
    "    # Convert input strings to datetime objects\n",
    "    date1 = pd.to_datetime(date1_str)\n",
    "    date2 = pd.to_datetime(date2_str)\n",
    "\n",
    "    # Calculate the difference between the two dates\n",
    "    time_difference = date2 - date1\n",
    "\n",
    "    # Extract days, hours, and minutes from the timedelta object\n",
    "    days = time_difference.days\n",
    "    hours = time_difference.seconds // 3600\n",
    "    minutes = (time_difference.seconds % 3600) // 60\n",
    "\n",
    "    # Display the result\n",
    "    print(\"Difference between the two dates:\")\n",
    "    print(\"Days:\", days)\n",
    "    print(\"Hours:\", hours)\n",
    "    print(\"Minutes:\", minutes)\n",
    "\n",
    "# Call the function to calculate and display the time difference\n",
    "calculate_time_difference()"
   ]
  },
  {
   "cell_type": "code",
   "execution_count": null,
   "id": "5f5d36bf-6540-4467-9d16-686a714d3495",
   "metadata": {},
   "outputs": [],
   "source": []
  },
  {
   "cell_type": "markdown",
   "id": "446a3cee-83ba-45d3-8517-dc6d19c0d997",
   "metadata": {},
   "source": [
    "9) "
   ]
  },
  {
   "cell_type": "code",
   "execution_count": 24,
   "id": "14710dca-22f7-4059-b8dd-c5e127fb4a1e",
   "metadata": {},
   "outputs": [
    {
     "name": "stdin",
     "output_type": "stream",
     "text": [
      "Enter the file path of the CSV file:  winequality.csv\n",
      "Enter the column name to convert to categorical:  type\n",
      "Enter the category order (comma-separated):  white\n"
     ]
    },
    {
     "name": "stdout",
     "output_type": "stream",
     "text": [
      "Sorted data:\n",
      "       type  fixed acidity  volatile acidity  citric acid  residual sugar  \\\n",
      "0     white            7.0             0.270         0.36            20.7   \n",
      "3250  white            6.6             0.230         0.30             4.6   \n",
      "3249  white            6.5             0.480         0.02             0.9   \n",
      "3248  white            6.1             0.220         0.31             1.4   \n",
      "3247  white            6.4             0.230         0.32             1.9   \n",
      "...     ...            ...               ...          ...             ...   \n",
      "6458    NaN            6.8             0.620         0.08             1.9   \n",
      "6459    NaN            6.2             0.600         0.08             2.0   \n",
      "6460    NaN            6.3             0.510         0.13             2.3   \n",
      "6461    NaN            5.9             0.645         0.12             2.0   \n",
      "6462    NaN            6.0             0.310         0.47             3.6   \n",
      "\n",
      "      chlorides  free sulfur dioxide  total sulfur dioxide  density    pH  \\\n",
      "0         0.045                 45.0                 170.0  1.00100  3.00   \n",
      "3250      0.060                 29.0                 154.0  0.99142  3.23   \n",
      "3249      0.043                 32.0                  99.0  0.99226  3.14   \n",
      "3248      0.039                 40.0                 129.0  0.99193  3.45   \n",
      "3247      0.038                 40.0                 118.0  0.99074  3.32   \n",
      "...         ...                  ...                   ...      ...   ...   \n",
      "6458      0.068                 28.0                  38.0  0.99651  3.42   \n",
      "6459      0.090                 32.0                  44.0  0.99490  3.45   \n",
      "6460      0.076                 29.0                  40.0  0.99574  3.42   \n",
      "6461      0.075                 32.0                  44.0  0.99547  3.57   \n",
      "6462      0.067                 18.0                  42.0  0.99549  3.39   \n",
      "\n",
      "      sulphates  alcohol  quality  \n",
      "0          0.45      8.8        6  \n",
      "3250       0.49     12.2        8  \n",
      "3249       0.47      9.8        4  \n",
      "3248       0.59     10.9        5  \n",
      "3247       0.53     11.8        7  \n",
      "...         ...      ...      ...  \n",
      "6458       0.82      9.5        6  \n",
      "6459       0.58     10.5        5  \n",
      "6460       0.75     11.0        6  \n",
      "6461       0.71     10.2        5  \n",
      "6462       0.66     11.0        6  \n",
      "\n",
      "[6463 rows x 13 columns]\n"
     ]
    }
   ],
   "source": [
    "import pandas as pd\n",
    "\n",
    "def convert_column_to_categorical():\n",
    "    # Prompt the user to enter the file path\n",
    "    file_path = input(\"Enter the file path of the CSV file: \")\n",
    "    # Prompt the user to enter the column name\n",
    "    column_name = input(\"Enter the column name to convert to categorical: \")\n",
    "    # Prompt the user to enter the category order (comma-separated)\n",
    "    category_order_str = input(\"Enter the category order (comma-separated): \")\n",
    "\n",
    "    # Read the CSV file\n",
    "    df = pd.read_csv(file_path)\n",
    "\n",
    "    # Convert the specified column to categorical data type with the specified category order\n",
    "    category_order = [category.strip() for category in category_order_str.split(',')]\n",
    "    df[column_name] = pd.Categorical(df[column_name], categories=category_order, ordered=True)\n",
    "\n",
    "    # Display the sorted data\n",
    "    sorted_data = df.sort_values(by=column_name)\n",
    "    print(\"Sorted data:\")\n",
    "    print(sorted_data)\n",
    "\n",
    "# Call the function\n",
    "convert_column_to_categorical()"
   ]
  },
  {
   "cell_type": "code",
   "execution_count": null,
   "id": "3b7432ec-2cab-4bbc-a83a-124a6bfccbd8",
   "metadata": {},
   "outputs": [],
   "source": []
  },
  {
   "cell_type": "markdown",
   "id": "9d783d0d-cde2-4e37-97bc-1b38d97dee3f",
   "metadata": {},
   "source": [
    "10) "
   ]
  },
  {
   "cell_type": "code",
   "execution_count": 28,
   "id": "af8b3d09-fa18-4399-a5eb-9cd661cc297a",
   "metadata": {},
   "outputs": [],
   "source": [
    "Date = ['2023-01-01', '2023-01-01', '2023-01-01', '2023-01-01']\n",
    "Product_Category = ['Category1', 'Category2', 'Category3', 'Category4']\n",
    "Sales = [100, 150, 120, 130]\n",
    "\n",
    "df = pd.DataFrame(data = {'Date' : Date, 'Product_Category' : Product_Category, 'Sales' : Sales})"
   ]
  },
  {
   "cell_type": "code",
   "execution_count": 29,
   "id": "2523d3d0-09a4-45a5-936c-6bf28b782755",
   "metadata": {},
   "outputs": [],
   "source": [
    "df.to_csv('sales.csv')"
   ]
  },
  {
   "cell_type": "code",
   "execution_count": 30,
   "id": "f192dff2-26ed-410f-81d8-aaed9d931930",
   "metadata": {},
   "outputs": [
    {
     "name": "stdin",
     "output_type": "stream",
     "text": [
      "Enter the file path of the CSV file:  sales.csv\n"
     ]
    },
    {
     "data": {
      "image/png": "[encoded data removed]",
      "text/plain": [
       "<Figure size 1000x600 with 1 Axes>"
      ]
     },
     "metadata": {},
     "output_type": "display_data"
    }
   ],
   "source": [
    "import pandas as pd\n",
    "import matplotlib.pyplot as plt\n",
    "\n",
    "def visualize_sales_data():\n",
    "    # Prompt the user to enter the file path\n",
    "    file_path = input(\"Enter the file path of the CSV file: \")\n",
    "\n",
    "    # Read the CSV file\n",
    "    df = pd.read_csv('sales.csv')\n",
    "\n",
    "    # Assuming the CSV file has columns 'Date', 'Product_Category', and 'Sales'\n",
    "    # Convert 'Date' column to datetime if not already\n",
    "    df['Date'] = pd.to_datetime(df['Date'])\n",
    "\n",
    "    # Pivot the DataFrame to prepare for stacked bar chart\n",
    "    sales_pivot = df.pivot_table(index='Date', columns='Product_Category', values='Sales', aggfunc='sum')\n",
    "\n",
    "    # Plot the stacked bar chart\n",
    "    sales_pivot.plot(kind='bar', stacked=True, figsize=(10, 6))\n",
    "    plt.title('Sales of Each Product Category Over Time')\n",
    "    plt.xlabel('Date')\n",
    "    plt.ylabel('Sales')\n",
    "    plt.xticks(rotation=45)\n",
    "    plt.legend(title='Product Category')\n",
    "\n",
    "    # Show the plot\n",
    "    plt.tight_layout()\n",
    "    plt.show()\n",
    "\n",
    "# Call the function\n",
    "visualize_sales_data()"
   ]
  },
  {
   "cell_type": "code",
   "execution_count": null,
   "id": "50fa9468-c8f0-4628-afc9-0b6af4d08436",
   "metadata": {},
   "outputs": [],
   "source": []
  },
  {
   "cell_type": "markdown",
   "id": "63ab91d8-6531-4af4-b449-932f707b3cee",
   "metadata": {},
   "source": [
    "11) "
   ]
  },
  {
   "cell_type": "code",
   "execution_count": 38,
   "id": "f6d7e8ce-0df4-4e87-9358-64844853597f",
   "metadata": {},
   "outputs": [],
   "source": [
    "Student_Id = [1, 2, 3, 4, 5, 6, 7, 8, 9, 10]\n",
    "Test_Score = [85, 90, 80, 75, 85, 82, 78, 85, 90, 85]"
   ]
  },
  {
   "cell_type": "code",
   "execution_count": 39,
   "id": "bfb15179-bc72-4eca-879d-58f1167ec55c",
   "metadata": {},
   "outputs": [],
   "source": [
    "df_11 = pd.DataFrame(data = {'Studetn_Id' : Student_Id, 'Test_Score' : Test_Score})"
   ]
  },
  {
   "cell_type": "code",
   "execution_count": 40,
   "id": "84a76011-d32c-4277-a173-4c2122392d1d",
   "metadata": {},
   "outputs": [
    {
     "data": {
      "text/html": [
       "<div>\n",
       "<style scoped>\n",
       "    .dataframe tbody tr th:only-of-type {\n",
       "        vertical-align: middle;\n",
       "    }\n",
       "\n",
       "    .dataframe tbody tr th {\n",
       "        vertical-align: top;\n",
       "    }\n",
       "\n",
       "    .dataframe thead th {\n",
       "        text-align: right;\n",
       "    }\n",
       "</style>\n",
       "<table border=\"1\" class=\"dataframe\">\n",
       "  <thead>\n",
       "    <tr style=\"text-align: right;\">\n",
       "      <th></th>\n",
       "      <th>Studetn_Id</th>\n",
       "      <th>Test_Score</th>\n",
       "    </tr>\n",
       "  </thead>\n",
       "  <tbody>\n",
       "    <tr>\n",
       "      <th>0</th>\n",
       "      <td>1</td>\n",
       "      <td>85</td>\n",
       "    </tr>\n",
       "    <tr>\n",
       "      <th>1</th>\n",
       "      <td>2</td>\n",
       "      <td>90</td>\n",
       "    </tr>\n",
       "    <tr>\n",
       "      <th>2</th>\n",
       "      <td>3</td>\n",
       "      <td>80</td>\n",
       "    </tr>\n",
       "    <tr>\n",
       "      <th>3</th>\n",
       "      <td>4</td>\n",
       "      <td>75</td>\n",
       "    </tr>\n",
       "    <tr>\n",
       "      <th>4</th>\n",
       "      <td>5</td>\n",
       "      <td>85</td>\n",
       "    </tr>\n",
       "    <tr>\n",
       "      <th>5</th>\n",
       "      <td>6</td>\n",
       "      <td>82</td>\n",
       "    </tr>\n",
       "    <tr>\n",
       "      <th>6</th>\n",
       "      <td>7</td>\n",
       "      <td>78</td>\n",
       "    </tr>\n",
       "    <tr>\n",
       "      <th>7</th>\n",
       "      <td>8</td>\n",
       "      <td>85</td>\n",
       "    </tr>\n",
       "    <tr>\n",
       "      <th>8</th>\n",
       "      <td>9</td>\n",
       "      <td>90</td>\n",
       "    </tr>\n",
       "    <tr>\n",
       "      <th>9</th>\n",
       "      <td>10</td>\n",
       "      <td>85</td>\n",
       "    </tr>\n",
       "  </tbody>\n",
       "</table>\n",
       "</div>"
      ],
      "text/plain": [
       "   Studetn_Id  Test_Score\n",
       "0           1          85\n",
       "1           2          90\n",
       "2           3          80\n",
       "3           4          75\n",
       "4           5          85\n",
       "5           6          82\n",
       "6           7          78\n",
       "7           8          85\n",
       "8           9          90\n",
       "9          10          85"
      ]
     },
     "execution_count": 40,
     "metadata": {},
     "output_type": "execute_result"
    }
   ],
   "source": [
    "df_11"
   ]
  },
  {
   "cell_type": "code",
   "execution_count": 41,
   "id": "6ac5c5e0-fa18-4812-ae8f-a19c9b2abce9",
   "metadata": {},
   "outputs": [],
   "source": [
    "df_11.to_csv('students.csv')"
   ]
  },
  {
   "cell_type": "code",
   "execution_count": 45,
   "id": "1659c0a7-9a48-4a7b-9131-f08e87aef931",
   "metadata": {},
   "outputs": [
    {
     "name": "stdin",
     "output_type": "stream",
     "text": [
      "Enter the file path of the CSV file containing the student data:  students.csv\n"
     ]
    },
    {
     "name": "stdout",
     "output_type": "stream",
     "text": [
      "+-----------+--------+\n",
      "| Statistic | Value  |\n",
      "+-----------+--------+\n",
      "| Mean      | 83.5   |\n",
      "| Median    | 85     |\n",
      "| Mode      | 85     |\n",
      "+-----------+--------+\n"
     ]
    }
   ],
   "source": [
    "import pandas as pd\n",
    "\n",
    "def calculate_statistics():\n",
    "    # Prompt the user to enter the file path of the CSV file\n",
    "    file_path = input(\"Enter the file path of the CSV file containing the student data: \")\n",
    "\n",
    "    # Read the CSV file into a Pandas DataFrame\n",
    "    df = pd.read_csv('students.csv')\n",
    "\n",
    "    # Calculate the mean, median, and mode of the test scores\n",
    "    mean_score = df['Test_Score'].mean()\n",
    "    median_score = df['Test_Score'].median()\n",
    "    mode_scores = df['Test_Score'].mode()\n",
    "\n",
    "    # Display the results in a table\n",
    "    print(\"+-----------+--------+\")\n",
    "    print(\"| Statistic | Value  |\")\n",
    "    print(\"+-----------+--------+\")\n",
    "    print(\"| Mean      | {:.1f}   |\".format(mean_score))\n",
    "    print(\"| Median    | {}     |\".format(int(median_score)))\n",
    "    print(\"| Mode      | {}     |\".format(', '.join(map(str, mode_scores))))\n",
    "    print(\"+-----------+--------+\")\n",
    "\n",
    "# Example usage of the program\n",
    "calculate_statistics()"
   ]
  }
 ],
 "metadata": {
  "kernelspec": {
   "display_name": "Python 3 (ipykernel)",
   "language": "python",
   "name": "python3"
  },
  "language_info": {
   "codemirror_mode": {
    "name": "ipython",
    "version": 3
   },
   "file_extension": ".py",
   "mimetype": "text/x-python",
   "name": "python",
   "nbconvert_exporter": "python",
   "pygments_lexer": "ipython3",
   "version": "3.10.8"
  }
 },
 "nbformat": 4,
 "nbformat_minor": 5
}
